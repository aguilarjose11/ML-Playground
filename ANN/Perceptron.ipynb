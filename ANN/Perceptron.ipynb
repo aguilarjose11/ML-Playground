{
 "cells": [
  {
   "cell_type": "code",
   "execution_count": 1,
   "id": "b8b7553c",
   "metadata": {},
   "outputs": [],
   "source": [
    "from sklearn import datasets\n",
    "import numpy\n",
    "from Perceptron import Perceptron\n",
    "import random"
   ]
  },
  {
   "cell_type": "code",
   "execution_count": 18,
   "id": "e05d8e13",
   "metadata": {},
   "outputs": [],
   "source": [
    "iris = datasets.load_iris()\n",
    "indices = [i for i in range(len(iris.data)) if iris.target[i] == 0 or iris.target[i] == 1]\n",
    "random.shuffle(indices)\n",
    "X = iris.data[indices]\n",
    "y = iris.target[indices]"
   ]
  },
  {
   "cell_type": "code",
   "execution_count": 19,
   "id": "7eb326f7",
   "metadata": {},
   "outputs": [],
   "source": [
    "p = Perceptron(input=4)"
   ]
  },
  {
   "cell_type": "code",
   "execution_count": 20,
   "id": "c69a9f5a",
   "metadata": {},
   "outputs": [
    {
     "name": "stdout",
     "output_type": "stream",
     "text": [
      "label: 0 vs pred: [0]\n",
      "label: 1 vs pred: [0]\n",
      "Pred: [0] - actual 1 - false positive\n",
      "label: 0 vs pred: [1]\n",
      "Pred: [1] - actual 0 - false negative\n",
      "label: 0 vs pred: [1]\n",
      "Pred: [1] - actual 0 - false negative\n",
      "label: 1 vs pred: [0]\n",
      "Pred: [0] - actual 1 - false positive\n",
      "label: 1 vs pred: [1]\n",
      "label: 0 vs pred: [1]\n",
      "Pred: [1] - actual 0 - false negative\n",
      "label: 0 vs pred: [0]\n",
      "label: 1 vs pred: [0]\n",
      "Pred: [0] - actual 1 - false positive\n",
      "label: 1 vs pred: [1]\n",
      "label: 1 vs pred: [1]\n",
      "label: 1 vs pred: [1]\n",
      "label: 0 vs pred: [1]\n",
      "Pred: [1] - actual 0 - false negative\n",
      "label: 0 vs pred: [0]\n",
      "label: 0 vs pred: [0]\n",
      "label: 1 vs pred: [0]\n",
      "Pred: [0] - actual 1 - false positive\n",
      "label: 0 vs pred: [1]\n",
      "Pred: [1] - actual 0 - false negative\n",
      "label: 1 vs pred: [1]\n",
      "label: 1 vs pred: [1]\n",
      "label: 1 vs pred: [1]\n",
      "label: 1 vs pred: [1]\n",
      "label: 1 vs pred: [1]\n",
      "label: 0 vs pred: [0]\n",
      "label: 1 vs pred: [1]\n",
      "label: 0 vs pred: [0]\n",
      "label: 1 vs pred: [1]\n",
      "label: 1 vs pred: [1]\n",
      "label: 0 vs pred: [0]\n",
      "label: 1 vs pred: [1]\n",
      "label: 0 vs pred: [0]\n",
      "label: 0 vs pred: [0]\n",
      "label: 0 vs pred: [0]\n",
      "label: 0 vs pred: [0]\n",
      "label: 1 vs pred: [1]\n",
      "label: 0 vs pred: [0]\n",
      "label: 0 vs pred: [0]\n",
      "label: 0 vs pred: [0]\n",
      "label: 0 vs pred: [0]\n",
      "label: 1 vs pred: [1]\n",
      "label: 0 vs pred: [0]\n",
      "label: 1 vs pred: [1]\n",
      "label: 1 vs pred: [1]\n",
      "label: 1 vs pred: [1]\n",
      "label: 0 vs pred: [0]\n",
      "label: 1 vs pred: [1]\n",
      "label: 0 vs pred: [0]\n",
      "label: 1 vs pred: [1]\n",
      "label: 0 vs pred: [0]\n",
      "label: 0 vs pred: [0]\n",
      "label: 1 vs pred: [1]\n",
      "label: 0 vs pred: [0]\n",
      "label: 1 vs pred: [1]\n",
      "label: 1 vs pred: [1]\n",
      "label: 1 vs pred: [1]\n",
      "label: 0 vs pred: [0]\n",
      "label: 0 vs pred: [0]\n",
      "label: 1 vs pred: [1]\n",
      "label: 1 vs pred: [1]\n",
      "label: 1 vs pred: [1]\n",
      "label: 1 vs pred: [1]\n",
      "label: 1 vs pred: [1]\n",
      "label: 0 vs pred: [0]\n",
      "label: 0 vs pred: [0]\n",
      "label: 1 vs pred: [1]\n",
      "label: 1 vs pred: [1]\n",
      "label: 0 vs pred: [0]\n",
      "label: 1 vs pred: [1]\n",
      "label: 0 vs pred: [0]\n",
      "label: 0 vs pred: [0]\n",
      "label: 0 vs pred: [0]\n",
      "label: 1 vs pred: [1]\n",
      "label: 1 vs pred: [1]\n",
      "label: 1 vs pred: [1]\n",
      "label: 0 vs pred: [0]\n",
      "label: 0 vs pred: [0]\n",
      "label: 0 vs pred: [0]\n",
      "label: 1 vs pred: [1]\n",
      "label: 0 vs pred: [0]\n",
      "label: 1 vs pred: [1]\n",
      "label: 0 vs pred: [0]\n"
     ]
    }
   ],
   "source": [
    "p.train(X=X[:80], y=y[:80])"
   ]
  },
  {
   "cell_type": "code",
   "execution_count": 21,
   "id": "bc0aece3",
   "metadata": {},
   "outputs": [
    {
     "data": {
      "text/plain": [
       "array([0, 1, 0, 0, 1, 1, 0, 0, 1, 1, 1, 1, 0, 0, 0, 1, 0, 1, 1, 1, 1, 1,\n",
       "       0, 1, 0, 1, 1, 0, 1, 0, 0, 0, 0, 1, 0, 0, 0, 0, 1, 0, 1, 1, 1, 0,\n",
       "       1, 0, 1, 0, 0, 1, 0, 1, 1, 1, 0, 0, 1, 1, 1, 1, 1, 0, 0, 1, 1, 0,\n",
       "       1, 0, 0, 0, 1, 1, 1, 0, 0, 0, 1, 0, 1, 0, 0, 1, 1, 1, 1, 0, 1, 1,\n",
       "       0, 0, 0, 1, 0, 1, 0, 1, 0, 0, 0, 0])"
      ]
     },
     "execution_count": 21,
     "metadata": {},
     "output_type": "execute_result"
    }
   ],
   "source": [
    "y"
   ]
  },
  {
   "cell_type": "code",
   "execution_count": 22,
   "id": "9104367f",
   "metadata": {},
   "outputs": [
    {
     "data": {
      "text/plain": [
       "array([[-2. , -8. ,  9.5,  3.6]])"
      ]
     },
     "execution_count": 22,
     "metadata": {},
     "output_type": "execute_result"
    }
   ],
   "source": [
    "p.perceptron"
   ]
  },
  {
   "cell_type": "code",
   "execution_count": 23,
   "id": "e5baba08",
   "metadata": {},
   "outputs": [
    {
     "data": {
      "text/plain": [
       "[array([0]),\n",
       " array([1]),\n",
       " array([1]),\n",
       " array([1]),\n",
       " array([1]),\n",
       " array([0]),\n",
       " array([1]),\n",
       " array([1]),\n",
       " array([0]),\n",
       " array([0]),\n",
       " array([0]),\n",
       " array([1]),\n",
       " array([0]),\n",
       " array([1]),\n",
       " array([0]),\n",
       " array([1]),\n",
       " array([0]),\n",
       " array([0]),\n",
       " array([0]),\n",
       " array([0])]"
      ]
     },
     "execution_count": 23,
     "metadata": {},
     "output_type": "execute_result"
    }
   ],
   "source": [
    "[p.feedforward(i) for i in X[80:]]"
   ]
  },
  {
   "cell_type": "code",
   "execution_count": 24,
   "id": "93e9e0fa",
   "metadata": {
    "scrolled": true
   },
   "outputs": [
    {
     "data": {
      "text/plain": [
       "array([0, 1, 1, 1, 1, 0, 1, 1, 0, 0, 0, 1, 0, 1, 0, 1, 0, 0, 0, 0])"
      ]
     },
     "execution_count": 24,
     "metadata": {},
     "output_type": "execute_result"
    }
   ],
   "source": [
    "y[80:]"
   ]
  },
  {
   "cell_type": "code",
   "execution_count": 9,
   "id": "ccb1cbdb",
   "metadata": {},
   "outputs": [
    {
     "data": {
      "text/plain": [
       "array([[-2.7, -6.9,  9.6,  4.5]])"
      ]
     },
     "execution_count": 9,
     "metadata": {},
     "output_type": "execute_result"
    }
   ],
   "source": [
    "p.perceptron"
   ]
  },
  {
   "cell_type": "code",
   "execution_count": null,
   "id": "193e5488",
   "metadata": {},
   "outputs": [],
   "source": []
  }
 ],
 "metadata": {
  "kernelspec": {
   "display_name": "Python 3",
   "language": "python",
   "name": "python3"
  },
  "language_info": {
   "codemirror_mode": {
    "name": "ipython",
    "version": 3
   },
   "file_extension": ".py",
   "mimetype": "text/x-python",
   "name": "python",
   "nbconvert_exporter": "python",
   "pygments_lexer": "ipython3",
   "version": "3.8.5"
  }
 },
 "nbformat": 4,
 "nbformat_minor": 5
}
